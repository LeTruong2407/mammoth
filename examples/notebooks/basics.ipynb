{
 "cells": [
  {
   "cell_type": "code",
   "execution_count": 2,
   "id": "6ec72291",
   "metadata": {},
   "outputs": [
    {
     "name": "stderr",
     "output_type": "stream",
     "text": [
      "/home/aba/lore/starprompt/.venv/lib/python3.13/site-packages/tqdm/auto.py:21: TqdmWarning: IProgress not found. Please update jupyter and ipywidgets. See https://ipywidgets.readthedocs.io/en/stable/user_install.html\n",
      "  from .autonotebook import tqdm as notebook_tqdm\n"
     ]
    }
   ],
   "source": [
    "\"\"\"\n",
    "This script contains a simple example of how to use the Mammoth library.\n",
    "\n",
    "We will see:\n",
    "- How to load the necessary stuff to run a model on a particular dataset.\n",
    "- What arguments are available for the model and what are the required ones.\n",
    "- How to run a model.\n",
    "- How to save and load a model.\n",
    "\"\"\"\n",
    "\n",
    "from mammoth import train, load_runner, get_avail_args"
   ]
  },
  {
   "cell_type": "code",
   "execution_count": 3,
   "id": "706a8624",
   "metadata": {},
   "outputs": [
    {
     "ename": "TypeError",
     "evalue": "parse_args() got an unexpected keyword argument 'return_parser'. Did you mean 'return_parser_only'?",
     "output_type": "error",
     "traceback": [
      "\u001b[31m---------------------------------------------------------------------------\u001b[39m",
      "\u001b[31mTypeError\u001b[39m                                 Traceback (most recent call last)",
      "\u001b[36mCell\u001b[39m\u001b[36m \u001b[39m\u001b[32mIn[3]\u001b[39m\u001b[32m, line 9\u001b[39m\n\u001b[32m      1\u001b[39m \u001b[33;03m\"\"\"\u001b[39;00m\n\u001b[32m      2\u001b[39m \u001b[33;03mThe `get_avail_args` function returns a dictionary of available arguments for the model.\u001b[39;00m\n\u001b[32m      3\u001b[39m \u001b[33;03mThe arguments are divided into required and optional ones.\u001b[39;00m\n\u001b[32m   (...)\u001b[39m\u001b[32m      6\u001b[39m \u001b[33;03m- The optional arguments are those that can be provided to customize the model's behavior (such as changing the batch_size or saving/loading a checkpoint).\u001b[39;00m\n\u001b[32m      7\u001b[39m \u001b[33;03m\"\"\"\u001b[39;00m\n\u001b[32m----> \u001b[39m\u001b[32m9\u001b[39m required_args, optional_args = \u001b[43mget_avail_args\u001b[49m\u001b[43m(\u001b[49m\u001b[43m)\u001b[49m\n\u001b[32m     11\u001b[39m \u001b[38;5;28mprint\u001b[39m(\u001b[33m\"\u001b[39m\u001b[33mRequired arguments:\u001b[39m\u001b[33m\"\u001b[39m)\n\u001b[32m     12\u001b[39m \u001b[38;5;28;01mfor\u001b[39;00m arg, info \u001b[38;5;129;01min\u001b[39;00m required_args.items():\n",
      "\u001b[36mFile \u001b[39m\u001b[32m~/lore/starprompt/utils/notebooks.py:89\u001b[39m, in \u001b[36mget_avail_args\u001b[39m\u001b[34m(dataset, model, args)\u001b[39m\n\u001b[32m     86\u001b[39m \u001b[38;5;28;01mif\u001b[39;00m model \u001b[38;5;129;01mis\u001b[39;00m \u001b[38;5;28;01mNone\u001b[39;00m:\n\u001b[32m     87\u001b[39m     exp_str += [\u001b[33m\"\u001b[39m\u001b[33m--model\u001b[39m\u001b[33m\"\u001b[39m, model]\n\u001b[32m---> \u001b[39m\u001b[32m89\u001b[39m parser = \u001b[43mparse_args\u001b[49m\u001b[43m(\u001b[49m\u001b[43mexp_str\u001b[49m\u001b[43m,\u001b[49m\u001b[43m \u001b[49m\u001b[43mreturn_parser\u001b[49m\u001b[43m=\u001b[49m\u001b[38;5;28;43;01mTrue\u001b[39;49;00m\u001b[43m)\u001b[49m\n\u001b[32m     91\u001b[39m required_args, optional_args = {}, {}\n\u001b[32m     92\u001b[39m \u001b[38;5;28;01mfor\u001b[39;00m group \u001b[38;5;129;01min\u001b[39;00m parser._action_groups:\n",
      "\u001b[31mTypeError\u001b[39m: parse_args() got an unexpected keyword argument 'return_parser'. Did you mean 'return_parser_only'?"
     ]
    }
   ],
   "source": [
    "\"\"\"\n",
    "The `get_avail_args` function returns a dictionary of available arguments for the model.\n",
    "The arguments are divided into required and optional ones.\n",
    "\n",
    "- The required arguments are those that MUST be provided to run the model.\n",
    "- The optional arguments are those that can be provided to customize the model's behavior (such as changing the batch_size or saving/loading a checkpoint).\n",
    "\"\"\"\n",
    "\n",
    "required_args, optional_args = get_avail_args()\n",
    "\n",
    "print(\"Required arguments:\")\n",
    "for arg, info in required_args.items():\n",
    "    print(f\"  {arg}: {info['description']}\")\n",
    "\n",
    "print(\"\\nOptional arguments:\")\n",
    "for arg, info in optional_args.items():\n",
    "    print(f\"  {arg}: {info['default']} - {info['description']}\")"
   ]
  },
  {
   "cell_type": "code",
   "execution_count": null,
   "id": "d73d1d64",
   "metadata": {},
   "outputs": [],
   "source": [
    "\"\"\"\n",
    "To load the necessary stuff to run a model on a particular dataset, we can use the `load_runner` function.\n",
    "This function takes the model name, dataset name, and a dictionary of arguments as input.\n",
    "The dictionary of arguments can contain both required and optional arguments.\n",
    "\n",
    "The `load_runner` function returns the model and dataset to be used for training.\n",
    "The model and dataset are already set up with the provided arguments.\n",
    "\"\"\"\n",
    "\n",
    "model, dataset = load_runner('sgd','seq-cifar10',{'lr': 0.1, 'n_epochs': 1, 'batch_size': 32})"
   ]
  },
  {
   "cell_type": "code",
   "execution_count": null,
   "id": "fa108461",
   "metadata": {},
   "outputs": [],
   "source": [
    "\"\"\"\n",
    "We can now run the model on the dataset using the `train` function.\n",
    "\"\"\"\n",
    "\n",
    "train(model, dataset)"
   ]
  }
 ],
 "metadata": {
  "kernelspec": {
   "display_name": ".venv",
   "language": "python",
   "name": "python3"
  },
  "language_info": {
   "codemirror_mode": {
    "name": "ipython",
    "version": 3
   },
   "file_extension": ".py",
   "mimetype": "text/x-python",
   "name": "python",
   "nbconvert_exporter": "python",
   "pygments_lexer": "ipython3",
   "version": "3.13.2"
  }
 },
 "nbformat": 4,
 "nbformat_minor": 5
}
